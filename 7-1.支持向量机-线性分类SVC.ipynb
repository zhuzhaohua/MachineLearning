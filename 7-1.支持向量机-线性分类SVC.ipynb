{
 "cells": [
  {
   "cell_type": "code",
   "execution_count": 8,
   "metadata": {},
   "outputs": [],
   "source": [
    "import matplotlib.pyplot as plt\n",
    "import numpy as np\n",
    "from sklearn import datasets, linear_model, cross_validation, svm"
   ]
  },
  {
   "cell_type": "code",
   "execution_count": 9,
   "metadata": {},
   "outputs": [],
   "source": [
    "# 使用鸢尾花数据\n",
    "def load_data():\n",
    "    iris = datasets.load_iris()\n",
    "    x_train = iris.data\n",
    "    y_train = iris.target\n",
    "    return cross_validation.train_test_split(x_train, y_train, test_size = 0.25, random_state = 0, stratify = y_train)"
   ]
  },
  {
   "cell_type": "code",
   "execution_count": 11,
   "metadata": {},
   "outputs": [
    {
     "name": "stdout",
     "output_type": "stream",
     "text": [
      "Coefficients:[[ 0.20959392  0.39923779 -0.81739259 -0.4423183 ]\n",
      " [-0.12943829 -0.78367336  0.52000074 -1.02409687]\n",
      " [-0.80296181 -0.87608296  1.21356733  1.81000197]], intercept [ 0.119738    2.03628071 -1.44375306]\n",
      "Score: 0.9736842105263158\n"
     ]
    }
   ],
   "source": [
    "# 线性分类器LinearSVC\n",
    "def test_LinearSVC(*data):\n",
    "    x_train, x_test, y_train, y_test = data\n",
    "    svc = svm.LinearSVC()\n",
    "    svc.fit(x_train,y_train)\n",
    "    print('Coefficients:{0}, intercept {1}'.format(svc.coef_, svc.intercept_))\n",
    "    print('Score: {0}'.format(svc.score(x_test, y_test)))\n",
    "\n",
    "x_train, x_test, y_train, y_test = load_data()\n",
    "test_LinearSVC(x_train, x_test, y_train, y_test )"
   ]
  },
  {
   "cell_type": "code",
   "execution_count": 13,
   "metadata": {},
   "outputs": [
    {
     "name": "stdout",
     "output_type": "stream",
     "text": [
      "hinge\n",
      "Coefficients:[[ 0.36637401  0.32164134 -1.07534387 -0.57004977]\n",
      " [ 0.47106798 -1.55787524  0.39835903 -1.34695567]\n",
      " [-1.21290848 -1.15164257  1.85318358  1.97845665]], intercept [ 0.18050384  1.34290245 -1.43590004]\n",
      "Score: 0.9736842105263158\n",
      "squared_hinge\n",
      "Coefficients:[[ 0.20959201  0.39924182 -0.81738995 -0.44231421]\n",
      " [-0.12812173 -0.78720985  0.52072245 -1.02332296]\n",
      " [-0.80298341 -0.87646055  1.21359788  1.80987618]], intercept [ 0.11973942  2.04243821 -1.44436839]\n",
      "Score: 0.9736842105263158\n"
     ]
    }
   ],
   "source": [
    "# 损失函数对结果的影响\n",
    "def test_LinearSVC_loss(*data):\n",
    "    x_train, x_test, y_train, y_test = data\n",
    "    losses = ('hinge','squared_hinge')\n",
    "    for loss in losses:\n",
    "        svc = svm.LinearSVC(loss=loss)\n",
    "        svc.fit(x_train,y_train)\n",
    "        print(loss)\n",
    "        print('Coefficients:{0}, intercept {1}'.format(svc.coef_, svc.intercept_))\n",
    "        print('Score: {0}'.format(svc.score(x_test, y_test)))\n",
    "\n",
    "x_train, x_test, y_train, y_test = load_data()\n",
    "test_LinearSVC_loss(x_train, x_test, y_train, y_test )"
   ]
  },
  {
   "cell_type": "code",
   "execution_count": 14,
   "metadata": {},
   "outputs": [
    {
     "name": "stdout",
     "output_type": "stream",
     "text": [
      "panalty:l1\n",
      "Coefficients:[[ 0.16232657  0.52363926 -0.93207016  0.        ]\n",
      " [-0.15452877 -0.9082551   0.48326127 -0.93365227]\n",
      " [-0.5703139  -0.85186166  0.97134702  2.31141743]], intercept [ 0.          2.59055611 -2.60668505]\n",
      "Score: 0.9736842105263158\n",
      "panalty:l2\n",
      "Coefficients:[[ 0.20966721  0.39922563 -0.81739423 -0.44237657]\n",
      " [-0.13079574 -0.7872181   0.52298032 -1.02445961]\n",
      " [-0.80308922 -0.87656106  1.21391169  1.81021937]], intercept [ 0.11945388  2.04805235 -1.44409296]\n",
      "Score: 0.9736842105263158\n"
     ]
    }
   ],
   "source": [
    "# 惩罚项形式的影响\n",
    "def test_LinearSVC_L12(*data):\n",
    "    x_train, x_test, y_train, y_test = data\n",
    "    L12 = ('l1','l2')\n",
    "    for l in L12:\n",
    "        svc = svm.LinearSVC(penalty=l,dual=False)\n",
    "        svc.fit(x_train,y_train)\n",
    "        print('panalty:{0}'.format(l))\n",
    "        print('Coefficients:{0}, intercept {1}'.format(svc.coef_, svc.intercept_))\n",
    "        print('Score: {0}'.format(svc.score(x_test, y_test)))\n",
    "\n",
    "x_train, x_test, y_train, y_test = load_data()\n",
    "test_LinearSVC_L12(x_train, x_test, y_train, y_test )"
   ]
  },
  {
   "cell_type": "code",
   "execution_count": 18,
   "metadata": {},
   "outputs": [
    {
     "data": {
      "image/png": "[encoded data removed]",
      "text/plain": [
       "<Figure size 432x288 with 1 Axes>"
      ]
     },
     "metadata": {},
     "output_type": "display_data"
    }
   ],
   "source": [
    "# 惩罚项系数的影响\n",
    "def test_LinearSVC_C(*data):\n",
    "    train_x,test_x, train_y, test_y = data\n",
    "    Cs = np.logspace(-2,1)\n",
    "    train_score = []\n",
    "    test_score = []\n",
    "    for C in Cs:\n",
    "        svc = svm.LinearSVC(C=C)\n",
    "        svc.fit(train_x,train_y)\n",
    "        train_score.append(svc.score(train_x,train_y))\n",
    "        test_score.append(svc.score(test_x,test_y))\n",
    "            \n",
    "    # 绘图：\n",
    "    fig = plt.figure()\n",
    "    ax = fig.add_subplot(111)\n",
    "    ax.plot(Cs,train_score,label='Training Score')\n",
    "    ax.plot(Cs,test_score, label='Testing Score')\n",
    "    ax.set_xlabel(r'C')\n",
    "    ax.set_ylabel('score')\n",
    "    ax.set_title('LinearSVC')\n",
    "    ax.set_xscale('log')\n",
    "    ax.legend(loc='best')\n",
    "    plt.show()\n",
    "    \n",
    "x_train, x_test, y_train, y_test = load_data()\n",
    "test_LinearSVC_C(x_train, x_test, y_train, y_test )"
   ]
  }
 ],
 "metadata": {
  "kernelspec": {
   "display_name": "Python 3",
   "language": "python",
   "name": "python3"
  },
  "language_info": {
   "codemirror_mode": {
    "name": "ipython",
    "version": 3
   },
   "file_extension": ".py",
   "mimetype": "text/x-python",
   "name": "python",
   "nbconvert_exporter": "python",
   "pygments_lexer": "ipython3",
   "version": "3.6.5"
  }
 },
 "nbformat": 4,
 "nbformat_minor": 2
}
