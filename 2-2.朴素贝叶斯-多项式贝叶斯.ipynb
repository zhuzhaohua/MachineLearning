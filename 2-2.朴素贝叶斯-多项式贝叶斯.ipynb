{
 "cells": [
  {
   "cell_type": "code",
   "execution_count": 2,
   "metadata": {},
   "outputs": [],
   "source": [
    "# 引包\n",
    "from sklearn import datasets, cross_validation, naive_bayes\n",
    "import numpy as np\n",
    "import matplotlib.pyplot as plt"
   ]
  },
  {
   "cell_type": "code",
   "execution_count": 3,
   "metadata": {},
   "outputs": [],
   "source": [
    "# 数据加载方法：\n",
    "def load_data():\n",
    "    digits=datasets.load_digits()\n",
    "    return cross_validation.train_test_split(digits.data, digits.target, test_size=0.25, random_state=0)"
   ]
  },
  {
   "cell_type": "code",
   "execution_count": 4,
   "metadata": {},
   "outputs": [],
   "source": [
    "# 多项式贝叶斯 条件概率满足多项式分布 加入拉普拉斯平滑\n",
    "def test_MultinomialNB(*data):\n",
    "    train_x,test_x, train_y, test_y = data\n",
    "    cls = naive_bayes.MultinomialNB()\n",
    "    cls.fit(train_x,train_y)\n",
    "    print('Training Score: {0}'.format(cls.score(train_x,train_y)))\n",
    "    print('Testing Score: {0}'.format(cls.score(test_x,test_y)))"
   ]
  },
  {
   "cell_type": "code",
   "execution_count": 5,
   "metadata": {},
   "outputs": [
    {
     "name": "stdout",
     "output_type": "stream",
     "text": [
      "Training Score: 0.9064587973273942\n",
      "Testing Score: 0.9088888888888889\n"
     ]
    }
   ],
   "source": [
    "# 查看多项式贝叶斯训练结果：\n",
    "train_x,test_x, train_y, test_y = load_data()\n",
    "test_MultinomialNB(train_x, test_x, train_y, test_y)"
   ]
  },
  {
   "cell_type": "code",
   "execution_count": 6,
   "metadata": {},
   "outputs": [],
   "source": [
    "# 查看不同的拉普拉斯平滑 对结果的影响：\n",
    "def test_MultinomialNB_alpha(*data):\n",
    "    train_x,test_x, train_y, test_y = data\n",
    "    alphas = np.logspace(-2, 5 ,num=200)\n",
    "    train_score = []\n",
    "    test_score = []\n",
    "    for alpha in alphas:\n",
    "        cls = naive_bayes.MultinomialNB(alpha=alpha)\n",
    "        cls.fit(train_x,train_y)\n",
    "        train_score.append(cls.score(train_x,train_y))\n",
    "        test_score.append(cls.score(test_x,test_y))\n",
    "            \n",
    "    # 绘图：\n",
    "    fig = plt.figure()\n",
    "    ax = fig.add_subplot(111)\n",
    "    ax.plot(alphas,train_score,label='Training Score')\n",
    "    ax.plot(alphas,test_score, label='Testing Score')\n",
    "    ax.set_xlabel(r'$\\alpha$')\n",
    "    ax.set_ylabel('score')\n",
    "    ax.set_ylim(0,1.0)\n",
    "    ax.set_title('MultinomialNB')\n",
    "    ax.set_xscale('log')\n",
    "    plt.show()"
   ]
  },
  {
   "cell_type": "code",
   "execution_count": 7,
   "metadata": {},
   "outputs": [
    {
     "data": {
      "image/png": "[encoded data removed]",
      "text/plain": [
       "<Figure size 432x288 with 1 Axes>"
      ]
     },
     "metadata": {},
     "output_type": "display_data"
    }
   ],
   "source": [
    "# 查看多项式贝叶斯训练结果：\n",
    "train_x,test_x, train_y, test_y = load_data()\n",
    "test_MultinomialNB_alpha(train_x, test_x, train_y, test_y)"
   ]
  }
 ],
 "metadata": {
  "kernelspec": {
   "display_name": "Python 3",
   "language": "python",
   "name": "python3"
  },
  "language_info": {
   "codemirror_mode": {
    "name": "ipython",
    "version": 3
   },
   "file_extension": ".py",
   "mimetype": "text/x-python",
   "name": "python",
   "nbconvert_exporter": "python",
   "pygments_lexer": "ipython3",
   "version": "3.6.5"
  }
 },
 "nbformat": 4,
 "nbformat_minor": 2
}
