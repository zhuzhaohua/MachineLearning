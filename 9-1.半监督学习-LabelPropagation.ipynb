{
 "cells": [
  {
   "cell_type": "code",
   "execution_count": 35,
   "metadata": {},
   "outputs": [],
   "source": [
    "import numpy as np\n",
    "import matplotlib.pyplot as plt\n",
    "from sklearn import metrics, datasets\n",
    "from sklearn.semi_supervised import LabelPropagation  "
   ]
  },
  {
   "cell_type": "code",
   "execution_count": 36,
   "metadata": {},
   "outputs": [],
   "source": [
    "# 加载数据 这里使用sklearn自带的糖尿病数据\n",
    "def load_data():\n",
    "    '''\n",
    "    加载数据集\n",
    "    返回一个元祖，依次是：样本集合、样本标记集合、未标记样本的下标集合\n",
    "    '''\n",
    "    digits = datasets.load_digits()\n",
    "    ### 混洗样本 ###\n",
    "    rng = np.random.RandomState(0)\n",
    "    indices = np.arange(len(digits.data)) # 样本的下标集合\n",
    "    \n",
    "    rng.shuffle(indices) # 混洗样本下标集合\n",
    "    X = digits.data[indices]\n",
    "    Y = digits.target[indices]\n",
    "    ### 生成未标记样本的下标集合 ###\n",
    "    n_labeled_points = int(len(Y)/10)  # 总样本数除以10 ，即只有十分之一的数据有标记\n",
    "    unlabeled_indices = np.arange(len(Y))[n_labeled_points:] # 其余的样本未标记\n",
    "    \n",
    "    return X, Y, unlabeled_indices"
   ]
  },
  {
   "cell_type": "code",
   "execution_count": 37,
   "metadata": {},
   "outputs": [
    {
     "name": "stdout",
     "output_type": "stream",
     "text": [
      "Accuracy:0.948084\n"
     ]
    }
   ],
   "source": [
    "def test_LabelPropagation(*data):\n",
    "    '''\n",
    "    测试 LabelPropagation 的用法\n",
    "\n",
    "    :param data: 一个元组，依次为： 样本集合、样本标记集合、 未标记样本的下标集合\n",
    "    :return: None\n",
    "    '''\n",
    "    X,y,unlabeled_indices=data\n",
    "    y_train=np.copy(y) # 必须拷贝，后面要用到 y\n",
    "    y_train[unlabeled_indices]=-1 # 未标记样本的标记设定为 -1\n",
    "    clf=LabelPropagation(max_iter=100,kernel='rbf',gamma=0.1)\n",
    "    clf.fit(X,y_train)\n",
    "    ### 获取预测准确率\n",
    "    predicted_labels = clf.transduction_[unlabeled_indices] # 预测标记\n",
    "    true_labels = y[unlabeled_indices] # 真实标记\n",
    "    print(\"Accuracy:%f\"%metrics.accuracy_score(true_labels,predicted_labels))\n",
    "    # 或者 print(\"Accuracy:%f\"%clf.score(X[unlabeled_indices],true_labels))\n",
    "\n",
    "\n",
    "X, Y, unlabeled_indices = load_data()\n",
    "test_LabelPropagation(X, Y, unlabeled_indices)"
   ]
  },
  {
   "cell_type": "code",
   "execution_count": 38,
   "metadata": {},
   "outputs": [
    {
     "name": "stderr",
     "output_type": "stream",
     "text": [
      "/usr/local/lib/python3.6/site-packages/sklearn/semi_supervised/label_propagation.py:288: ConvergenceWarning: max_iter=100 was reached without convergence.\n",
      "  category=ConvergenceWarning\n",
      "/usr/local/lib/python3.6/site-packages/sklearn/semi_supervised/label_propagation.py:277: RuntimeWarning: invalid value encountered in true_divide\n",
      "  self.label_distributions_ /= normalizer\n"
     ]
    },
    {
     "data": {
      "image/png": "[encoded data removed]",
      "text/plain": [
       "<Figure size 432x288 with 1 Axes>"
      ]
     },
     "metadata": {},
     "output_type": "display_data"
    }
   ],
   "source": [
    "# rbf核 及其参数的影响\n",
    "def test_LabelPropagation_rbf(*data):\n",
    "    '''\n",
    "    测试 LabelPropagation 的 rbf 核时，预测性能随 alpha 和 gamma 的变化\n",
    "\n",
    "    :param data: 一个元组，依次为： 样本集合、样本标记集合、 未标记样本的下标集合\n",
    "    :return: None\n",
    "    '''\n",
    "    X,y,unlabeled_indices=data\n",
    "    y_train=np.copy(y) # 必须拷贝，后面要用到 y\n",
    "    y_train[unlabeled_indices]=-1 # 未标记样本的标记设定为 -1\n",
    "\n",
    "    fig=plt.figure()\n",
    "    ax=fig.add_subplot(1,1,1)\n",
    "    alphas=np.linspace(0.01,1,num=10,endpoint=True)\n",
    "    gammas=np.logspace(-2,2,num=50)\n",
    "    colors=((1,0,0),(0,1,0),(0,0,1),(0.5,0.5,0),(0,0.5,0.5),(0.5,0,0.5),\n",
    "        (0.4,0.6,0),(0.6,0.4,0),(0,0.6,0.4),(0.5,0.3,0.2),) # 颜色集合，不同曲线用不同颜色\n",
    "    ## 训练并绘图\n",
    "    for alpha,color in zip(alphas,colors):\n",
    "        scores=[]\n",
    "        for gamma in gammas:\n",
    "            clf=LabelPropagation(max_iter=100,gamma=gamma,alpha=alpha,kernel='rbf')\n",
    "            clf.fit(X,y_train)\n",
    "            scores.append(clf.score(X[unlabeled_indices],y[unlabeled_indices]))\n",
    "        ax.plot(gammas,scores,label=r\"$\\alpha=%s$\"%alpha,color=color)\n",
    "\n",
    "    ### 设置图形\n",
    "    ax.set_xlabel(r\"$\\gamma$\")\n",
    "    ax.set_ylabel(\"score\")\n",
    "    ax.set_xscale(\"log\")\n",
    "    ax.legend(loc=\"best\")\n",
    "    ax.set_title(\"LabelPropagation rbf kernel\")\n",
    "    plt.show()\n",
    "    \n",
    "\n",
    "X, Y, unlabeled_indices = load_data()\n",
    "test_LabelPropagation_rbf(X, Y, unlabeled_indices)"
   ]
  },
  {
   "cell_type": "code",
   "execution_count": 33,
   "metadata": {},
   "outputs": [
    {
     "name": "stderr",
     "output_type": "stream",
     "text": [
      "/usr/local/lib/python3.6/site-packages/sklearn/semi_supervised/label_propagation.py:277: RuntimeWarning: invalid value encountered in true_divide\n",
      "  self.label_distributions_ /= normalizer\n",
      "/usr/local/lib/python3.6/site-packages/sklearn/semi_supervised/label_propagation.py:288: ConvergenceWarning: max_iter=100 was reached without convergence.\n",
      "  category=ConvergenceWarning\n"
     ]
    },
    {
     "data": {
      "image/png": "[encoded data removed]",
      "text/plain": [
       "<Figure size 432x288 with 1 Axes>"
      ]
     },
     "metadata": {},
     "output_type": "display_data"
    }
   ],
   "source": [
    "def test_LabelPropagation_knn(*data):\n",
    "    '''\n",
    "   测试 LabelPropagation 的 knn 核时，预测性能随 alpha 和 n_neighbors 的变化\n",
    "\n",
    "    :param data:  一个元组，依次为： 样本集合、样本标记集合、 未标记样本的下标集合\n",
    "    :return:  None\n",
    "    '''\n",
    "    X,y,unlabeled_indices=data\n",
    "    y_train=np.copy(y) # 必须拷贝，后面要用到 y\n",
    "    y_train[unlabeled_indices]=-1 # 未标记样本的标记设定为 -1\n",
    "\n",
    "    fig=plt.figure()\n",
    "    ax=fig.add_subplot(1,1,1)\n",
    "    alphas=np.linspace(0.01,0.99,num=10,endpoint=True)\n",
    "    Ks=[1,2,3,4,5,8,10,15,20,25,30,35,40,50]\n",
    "    colors=((1,0,0),(0,1,0),(0,0,1),(0.5,0.5,0),(0,0.5,0.5),(0.5,0,0.5),\n",
    "        (0.4,0.6,0),(0.6,0.4,0),(0,0.6,0.4),(0.5,0.3,0.2),) # 颜色集合，不同曲线用不同颜色\n",
    "    ## 训练并绘图\n",
    "    for alpha,color in zip(alphas,colors):\n",
    "        scores=[]\n",
    "        for K in Ks:\n",
    "            clf=LabelPropagation(max_iter=100,n_neighbors=K,alpha=alpha,kernel='knn')\n",
    "            clf.fit(X,y_train)\n",
    "            scores.append(clf.score(X[unlabeled_indices],y[unlabeled_indices]))\n",
    "        ax.plot(Ks,scores,label=r\"$\\alpha=%s$\"%alpha,color=color)\n",
    "\n",
    "    ### 设置图形\n",
    "    ax.set_xlabel(r\"$k$\")\n",
    "    ax.set_ylabel(\"score\")\n",
    "    ax.legend(loc=\"best\")\n",
    "    ax.set_title(\"LabelPropagation knn kernel\")\n",
    "    plt.show()\n",
    "    \n",
    "data=load_data() # 获取半监督分类数据集\n",
    "test_LabelPropagation_knn(*data)# 调用 test_LabelPropagation_knn"
   ]
  },
  {
   "cell_type": "code",
   "execution_count": null,
   "metadata": {},
   "outputs": [],
   "source": []
  }
 ],
 "metadata": {
  "kernelspec": {
   "display_name": "Python 3",
   "language": "python",
   "name": "python3"
  },
  "language_info": {
   "codemirror_mode": {
    "name": "ipython",
    "version": 3
   },
   "file_extension": ".py",
   "mimetype": "text/x-python",
   "name": "python",
   "nbconvert_exporter": "python",
   "pygments_lexer": "ipython3",
   "version": "3.6.5"
  }
 },
 "nbformat": 4,
 "nbformat_minor": 2
}
