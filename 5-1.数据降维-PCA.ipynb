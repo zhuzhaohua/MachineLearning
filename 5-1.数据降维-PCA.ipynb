{
 "cells": [
  {
   "cell_type": "code",
   "execution_count": 1,
   "metadata": {},
   "outputs": [],
   "source": [
    "import numpy as np\n",
    "import matplotlib.pyplot as plt\n",
    "from sklearn import datasets, decomposition, manifold"
   ]
  },
  {
   "cell_type": "code",
   "execution_count": 2,
   "metadata": {},
   "outputs": [],
   "source": [
    "# 使用sklearn自带的鸢尾花分类数据\n",
    "def load_data():\n",
    "    iris = datasets.load_iris()\n",
    "    return iris.data,iris.target"
   ]
  },
  {
   "cell_type": "code",
   "execution_count": 3,
   "metadata": {},
   "outputs": [],
   "source": [
    "# decomposition.PCA 需要一次性将数据加载在内存中，所以不适合大规模数据\n",
    "def test_PCA(*data):\n",
    "    x,y = data\n",
    "    pca = decomposition.PCA(n_components=None)\n",
    "    pca.fit(x)\n",
    "    print('explained variance ratio :{0}'.format(pca.explained_variance_ratio_))\n"
   ]
  },
  {
   "cell_type": "code",
   "execution_count": 4,
   "metadata": {},
   "outputs": [
    {
     "name": "stdout",
     "output_type": "stream",
     "text": [
      "explained variance ratio :[0.92461621 0.05301557 0.01718514 0.00518309]\n"
     ]
    }
   ],
   "source": [
    "# 测试\n",
    "x,y = load_data()\n",
    "test_PCA(x,y)"
   ]
  },
  {
   "cell_type": "code",
   "execution_count": 21,
   "metadata": {},
   "outputs": [],
   "source": [
    "# 根据上面的结果 将数据降低至2维\n",
    "def plot_PCA(*data):\n",
    "    x,y = data\n",
    "    pca = decomposition.PCA(n_components=2)\n",
    "    pca.fit(x)\n",
    "    x_r = pca.transform(x)\n",
    "    \n",
    "    fig = plt.figure()\n",
    "    ax = fig.add_subplot(111)\n",
    "#     colors=((1,0,0),(0,1,0),(0,0,1),(0.5,0.5,0),(0,0.5,0.5),(0.5,0,0.5),(0.4,0.6,0),(0.6,0.4,0),(0,0.6,0.4),(0.5,0.3,0.2),)\n",
    "    colors=((1,0,0),(0,1,0),(0,0,1))\n",
    "    for label,color in zip(np.unique(y),colors):\n",
    "        position =y==label\n",
    "        ax.scatter(x_r[position,0],x_r[position,1],label='target={0}'.format(label),color=color)\n",
    "    \n",
    "    ax.set_xlabel('X[0]')\n",
    "    ax.set_ylabel('Y[0]')\n",
    "    ax.legend(loc='best')\n",
    "    ax.set_title('PCA')\n",
    "    plt.show()"
   ]
  },
  {
   "cell_type": "code",
   "execution_count": 25,
   "metadata": {},
   "outputs": [
    {
     "data": {
      "image/png": "[encoded data removed]",
      "text/plain": [
       "<Figure size 432x288 with 1 Axes>"
      ]
     },
     "metadata": {},
     "output_type": "display_data"
    }
   ],
   "source": [
    "# 测试\n",
    "x,y = load_data()\n",
    "plot_PCA(x,y)"
   ]
  },
  {
   "cell_type": "code",
   "execution_count": null,
   "metadata": {},
   "outputs": [],
   "source": []
  }
 ],
 "metadata": {
  "kernelspec": {
   "display_name": "Python 3",
   "language": "python",
   "name": "python3"
  },
  "language_info": {
   "codemirror_mode": {
    "name": "ipython",
    "version": 3
   },
   "file_extension": ".py",
   "mimetype": "text/x-python",
   "name": "python",
   "nbconvert_exporter": "python",
   "pygments_lexer": "ipython3",
   "version": "3.6.5"
  }
 },
 "nbformat": 4,
 "nbformat_minor": 2
}
