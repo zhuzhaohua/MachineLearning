{
 "cells": [
  {
   "cell_type": "code",
   "execution_count": 5,
   "metadata": {},
   "outputs": [],
   "source": [
    "import numpy as np\n",
    "from sklearn.tree import DecisionTreeClassifier\n",
    "from sklearn import datasets\n",
    "from sklearn import cross_validation\n",
    "import matplotlib.pyplot as plt"
   ]
  },
  {
   "cell_type": "code",
   "execution_count": 12,
   "metadata": {},
   "outputs": [],
   "source": [
    "# 鸢尾花分类的数据 采用分层采样\n",
    "def load_data():\n",
    "    iris = datasets.load_iris()\n",
    "    return cross_validation.train_test_split(iris.data,iris.target,test_size=0.25,random_state=0, stratify=iris.target)"
   ]
  },
  {
   "cell_type": "code",
   "execution_count": 13,
   "metadata": {},
   "outputs": [],
   "source": [
    "# 测试分类决策树函数：\n",
    "def test_DecisionTreeClassifier(*data):\n",
    "    X_train,X_test,Y_train,Y_test = data\n",
    "    regr = DecisionTreeClassifier()\n",
    "    regr.fit(X_train,Y_train)\n",
    "    \n",
    "    print('【训练集成绩】Training Score:{0}'.format(regr.score(X_train,Y_train)))\n",
    "    print('【测试集成绩】Testing  Score:{0}'.format(regr.score(X_test,Y_test)))"
   ]
  },
  {
   "cell_type": "code",
   "execution_count": 18,
   "metadata": {},
   "outputs": [
    {
     "name": "stdout",
     "output_type": "stream",
     "text": [
      "【训练集成绩】Training Score:1.0\n",
      "【测试集成绩】Testing  Score:0.9736842105263158\n"
     ]
    }
   ],
   "source": [
    "# 开始测试：\n",
    "X_train,X_test,Y_train,Y_test = load_data()\n",
    "test_DecisionTreeClassifier(X_train,X_test,Y_train,Y_test)"
   ]
  },
  {
   "cell_type": "code",
   "execution_count": 19,
   "metadata": {},
   "outputs": [],
   "source": [
    "# 检验【切分质量评价准则】criterion对拟合的影响\n",
    "# 测试分类决策树函数：\n",
    "def test_DTC_Criterion(*data):\n",
    "    X_train,X_test,Y_train,Y_test = data\n",
    "    \n",
    "    criterions = ['gini','entropy']\n",
    "    for criterion in criterions :\n",
    "            regr = DecisionTreeClassifier(criterion=criterion)\n",
    "            regr.fit(X_train,Y_train)\n",
    "            print(criterion)\n",
    "            print('【训练集成绩】Training Score:{0}'.format(regr.score(X_train,Y_train)))\n",
    "            print('【测试集成绩】Testing  Score:{0}'.format(regr.score(X_test,Y_test)))"
   ]
  },
  {
   "cell_type": "code",
   "execution_count": 23,
   "metadata": {},
   "outputs": [
    {
     "name": "stdout",
     "output_type": "stream",
     "text": [
      "gini\n",
      "【训练集成绩】Training Score:1.0\n",
      "【测试集成绩】Testing  Score:0.9736842105263158\n",
      "entropy\n",
      "【训练集成绩】Training Score:1.0\n",
      "【测试集成绩】Testing  Score:0.9473684210526315\n"
     ]
    }
   ],
   "source": [
    "# 开始测试：\n",
    "X_train,X_test,Y_train,Y_test = load_data()\n",
    "test_DTC_Criterion(X_train,X_test,Y_train,Y_test)"
   ]
  },
  {
   "cell_type": "code",
   "execution_count": 24,
   "metadata": {},
   "outputs": [],
   "source": [
    "# 检验【随机划分】与【最优划分】的影响\n",
    "# 测试分类决策树函数：\n",
    "def test_DTC_splitter(*data):\n",
    "    X_train,X_test,Y_train,Y_test = data\n",
    "    \n",
    "    splitters = ['best','random']\n",
    "    \n",
    "    for splitter in splitters :\n",
    "            regr = DecisionTreeClassifier(splitter=splitter)\n",
    "            regr.fit(X_train,Y_train)\n",
    "            print(splitter)\n",
    "            print('【训练集成绩】Training Score:{0}'.format(regr.score(X_train,Y_train)))\n",
    "            print('【测试集成绩】Testing  Score:{0}'.format(regr.score(X_test,Y_test)))"
   ]
  },
  {
   "cell_type": "code",
   "execution_count": 27,
   "metadata": {},
   "outputs": [
    {
     "name": "stdout",
     "output_type": "stream",
     "text": [
      "best\n",
      "【训练集成绩】Training Score:1.0\n",
      "【测试集成绩】Testing  Score:0.9736842105263158\n",
      "random\n",
      "【训练集成绩】Training Score:1.0\n",
      "【测试集成绩】Testing  Score:0.9473684210526315\n"
     ]
    }
   ],
   "source": [
    "# 开始测试：\n",
    "X_train,X_test,Y_train,Y_test = load_data()\n",
    "test_DTC_splitter(X_train,X_test,Y_train,Y_test)"
   ]
  },
  {
   "cell_type": "code",
   "execution_count": 28,
   "metadata": {},
   "outputs": [],
   "source": [
    "# 检验决策树深度对拟合的影响：\n",
    "# 测试分类决策树函数：\n",
    "def test_DTC_depth(*data,maxdepth):\n",
    "    X_train,X_test,Y_train,Y_test = data\n",
    "    \n",
    "    depths = np.arange(1,maxdepth)\n",
    "    \n",
    "    train_score = []\n",
    "    test_score = []\n",
    "    \n",
    "    for depth in depths :\n",
    "            regr = DecisionTreeClassifier(max_depth=depth)\n",
    "            regr.fit(X_train,Y_train)\n",
    "            train_score.append(regr.score(X_train,Y_train))\n",
    "            test_score.append(regr.score(X_test,Y_test))\n",
    "    # 绘图：\n",
    "    fig = plt.figure()\n",
    "    ax = fig.add_subplot(111)\n",
    "    ax.plot(depths,train_score,label='Training Score', marker='o')\n",
    "    ax.plot(depths,test_score, label='Testing Score',marker='*')\n",
    "    ax.set_xlabel(r'maxdepth')\n",
    "    ax.set_ylabel('score')\n",
    "    ax.set_title('DecisionTreeClassifier')\n",
    "    ax.legend(framealpha=0.5, loc='best')\n",
    "    plt.show()"
   ]
  },
  {
   "cell_type": "code",
   "execution_count": 29,
   "metadata": {},
   "outputs": [
    {
     "data": {
      "image/png": "[encoded data removed]",
      "text/plain": [
       "<Figure size 432x288 with 1 Axes>"
      ]
     },
     "metadata": {},
     "output_type": "display_data"
    }
   ],
   "source": [
    "# 开始测试：\n",
    "X_train,X_test,Y_train,Y_test = load_data()\n",
    "test_DTC_depth(X_train,X_test,Y_train,Y_test,maxdepth=20)"
   ]
  },
  {
   "cell_type": "markdown",
   "metadata": {},
   "source": [
    "# 多次执行测试，得到的成绩是不同的，考虑可能与数据分割有关，而且数量级太小\n",
    "# 需要后续跟进"
   ]
  },
  {
   "cell_type": "code",
   "execution_count": null,
   "metadata": {},
   "outputs": [],
   "source": []
  }
 ],
 "metadata": {
  "kernelspec": {
   "display_name": "Python 3",
   "language": "python",
   "name": "python3"
  },
  "language_info": {
   "codemirror_mode": {
    "name": "ipython",
    "version": 3
   },
   "file_extension": ".py",
   "mimetype": "text/x-python",
   "name": "python",
   "nbconvert_exporter": "python",
   "pygments_lexer": "ipython3",
   "version": "3.6.5"
  }
 },
 "nbformat": 4,
 "nbformat_minor": 2
}
