{
 "cells": [
  {
   "cell_type": "code",
   "execution_count": 1,
   "metadata": {},
   "outputs": [],
   "source": [
    "\n",
    "import numpy as np\n",
    "import matplotlib.pyplot as plt\n",
    "from sklearn import datasets, manifold, manifold"
   ]
  },
  {
   "cell_type": "markdown",
   "metadata": {},
   "source": [
    "# MDS 要求降维后 样本之间的距离得到保持"
   ]
  },
  {
   "cell_type": "code",
   "execution_count": 2,
   "metadata": {},
   "outputs": [],
   "source": [
    "# 使用sklearn自带的鸢尾花分类数据\n",
    "def load_data():\n",
    "    iris = datasets.load_iris()\n",
    "    return iris.data,iris.target"
   ]
  },
  {
   "cell_type": "code",
   "execution_count": 3,
   "metadata": {},
   "outputs": [],
   "source": [
    "def test_MDS(*data):\n",
    "    x,y = data\n",
    "    for n in (4,3,2,1):\n",
    "        mds = manifold.MDS(n_components=n)\n",
    "        mds.fit(x)\n",
    "        # 显示核化矩阵的特征值λ\n",
    "        print('stress(n_components={0}) :{1}'.format(n,str(mds.stress_)))\n"
   ]
  },
  {
   "cell_type": "code",
   "execution_count": 7,
   "metadata": {},
   "outputs": [
    {
     "name": "stdout",
     "output_type": "stream",
     "text": [
      "stress(n_components=4) :11.73184624909949\n",
      "stress(n_components=3) :15.742512147755116\n",
      "stress(n_components=2) :190.51385259281116\n",
      "stress(n_components=1) :987.9013321892769\n"
     ]
    }
   ],
   "source": [
    "x,y =load_data()\n",
    "test_MDS(x,y)"
   ]
  },
  {
   "cell_type": "code",
   "execution_count": 10,
   "metadata": {},
   "outputs": [],
   "source": [
    "# 将数据降低至2维\n",
    "def plot_mds(*data):\n",
    "    x,y = data\n",
    "    mds = manifold.MDS(n_components=2)\n",
    "    x_r = mds.fit_transform(x)\n",
    "    \n",
    "    fig = plt.figure()\n",
    "    ax = fig.add_subplot(111)\n",
    "#     colors=((1,0,0),(0,1,0),(0,0,1),(0.5,0.5,0),(0,0.5,0.5),(0.5,0,0.5),(0.4,0.6,0),(0.6,0.4,0),(0,0.6,0.4),(0.5,0.3,0.2),)\n",
    "    colors=((1,0,0),(0,1,0),(0,0,1))\n",
    "    for label,color in zip(np.unique(y),colors):\n",
    "        position =y==label\n",
    "        ax.scatter(x_r[position,0],x_r[position,1],label='target={0}'.format(label),color=color)\n",
    "    \n",
    "    ax.set_xlabel('X[0]')\n",
    "    ax.set_ylabel('Y[0]')\n",
    "    ax.legend(loc='best')\n",
    "    ax.set_title('MDS')\n",
    "    plt.show()"
   ]
  },
  {
   "cell_type": "code",
   "execution_count": 17,
   "metadata": {},
   "outputs": [
    {
     "data": {
      "image/png": "[encoded data removed]",
      "text/plain": [
       "<Figure size 432x288 with 1 Axes>"
      ]
     },
     "metadata": {},
     "output_type": "display_data"
    }
   ],
   "source": [
    "x,y =load_data()\n",
    "plot_mds(x,y)"
   ]
  },
  {
   "cell_type": "code",
   "execution_count": null,
   "metadata": {},
   "outputs": [],
   "source": []
  }
 ],
 "metadata": {
  "kernelspec": {
   "display_name": "Python 3",
   "language": "python",
   "name": "python3"
  },
  "language_info": {
   "codemirror_mode": {
    "name": "ipython",
    "version": 3
   },
   "file_extension": ".py",
   "mimetype": "text/x-python",
   "name": "python",
   "nbconvert_exporter": "python",
   "pygments_lexer": "ipython3",
   "version": "3.6.5"
  }
 },
 "nbformat": 4,
 "nbformat_minor": 2
}
