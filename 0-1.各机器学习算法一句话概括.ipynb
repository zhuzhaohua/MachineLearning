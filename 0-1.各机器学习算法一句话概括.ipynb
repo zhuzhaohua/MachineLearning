{
 "cells": [
  {
   "cell_type": "markdown",
   "metadata": {},
   "source": [
    "# 各算法一句话概括"
   ]
  },
  {
   "cell_type": "markdown",
   "metadata": {},
   "source": [
    "## 1. 线性回归系列"
   ]
  },
  {
   "cell_type": "markdown",
   "metadata": {},
   "source": [
    "### 大部分算法的基础。因为监督学习的过程可以理解成已知X,Y，求Y=f(X)中函数f的过程，我们的目的，就是逼近拟合f，这都可以概括成回归的问题。而分类问题可以理解成是回归问题的特例，形式离散而已。"
   ]
  },
  {
   "cell_type": "markdown",
   "metadata": {},
   "source": [
    "## 2.决策树"
   ]
  },
  {
   "cell_type": "markdown",
   "metadata": {},
   "source": [
    "### 通过if else的形式进行逻辑判断，达到分类与回归的目的。与线性回归的区别，线性回归是拟合函数f的过程，而决策树用无数的线段对画面进行切割，将画面分成不同的区域，同样能够达到‘拟合f’的过程。"
   ]
  },
  {
   "cell_type": "markdown",
   "metadata": {},
   "source": [
    "## 3.朴素贝叶斯"
   ]
  },
  {
   "cell_type": "markdown",
   "metadata": {},
   "source": [
    "### 通过计算概率实现分类，而不是拟合函数。从贝叶斯定理角度出发，后验概率~ 前验概率+各特征的条件概率。可以这么理解：各特征的条件概率是对整体后验概率的贡献。"
   ]
  },
  {
   "cell_type": "markdown",
   "metadata": {},
   "source": [
    "## 4.人工神经网络"
   ]
  },
  {
   "cell_type": "markdown",
   "metadata": {},
   "source": [
    "### 模拟神经网络工作原理。由神经元（感知器）构成。抛开生物学意义不说，人工神经网络其实就是一张巨大的广义线性回归网络。每一个神经元都在进行线性回归，不停的拟合你提出的‘要求’，拟合能力超强，但可以想象，需要的训练程度也非常的可怕。"
   ]
  },
  {
   "cell_type": "markdown",
   "metadata": {},
   "source": [
    "## 5.K近邻"
   ]
  },
  {
   "cell_type": "markdown",
   "metadata": {},
   "source": [
    "### 最简单粗暴的算法。在测试样本附近找K个邻居，根据邻居们的类型判断测试样本的类型。所谓的学习过程，无非就是将样本们存起来，以便找邻居。。。寻找邻居的过程是K近邻的核心问题。"
   ]
  },
  {
   "cell_type": "markdown",
   "metadata": {},
   "source": []
  }
 ],
 "metadata": {
  "kernelspec": {
   "display_name": "Python 3",
   "language": "python",
   "name": "python3"
  },
  "language_info": {
   "codemirror_mode": {
    "name": "ipython",
    "version": 3
   },
   "file_extension": ".py",
   "mimetype": "text/x-python",
   "name": "python",
   "nbconvert_exporter": "python",
   "pygments_lexer": "ipython3",
   "version": "3.6.5"
  }
 },
 "nbformat": 4,
 "nbformat_minor": 2
}
